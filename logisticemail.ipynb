{
 "cells": [
  {
   "cell_type": "code",
   "execution_count": 1,
   "id": "75e2a167-13df-40cb-81ab-0bf04cb8ee94",
   "metadata": {},
   "outputs": [],
   "source": [
    "import pandas as pd\n",
    "import matplotlib.pyplot as plt\n",
    "import seaborn as sns\n",
    "from sklearn.model_selection import train_test_split\n",
    "from sklearn.linear_model import LogisticRegression\n",
    "from sklearn.preprocessing import OrdinalEncoder\n",
    "from sklearn.feature_extraction.text import CountVectorizer\n",
    "from sklearn.metrics import accuracy_score, classification_report, confusion_matrix\n",
    "import tkinter as tk\n",
    "from tkinter import messagebox"
   ]
  },
  {
   "cell_type": "code",
   "execution_count": 2,
   "id": "fce15102-bff1-4784-b255-5706e150ebd1",
   "metadata": {},
   "outputs": [
    {
     "data": {
      "text/html": [
       "<div>\n",
       "<style scoped>\n",
       "    .dataframe tbody tr th:only-of-type {\n",
       "        vertical-align: middle;\n",
       "    }\n",
       "\n",
       "    .dataframe tbody tr th {\n",
       "        vertical-align: top;\n",
       "    }\n",
       "\n",
       "    .dataframe thead th {\n",
       "        text-align: right;\n",
       "    }\n",
       "</style>\n",
       "<table border=\"1\" class=\"dataframe\">\n",
       "  <thead>\n",
       "    <tr style=\"text-align: right;\">\n",
       "      <th></th>\n",
       "      <th>Category</th>\n",
       "      <th>Message</th>\n",
       "    </tr>\n",
       "  </thead>\n",
       "  <tbody>\n",
       "    <tr>\n",
       "      <th>0</th>\n",
       "      <td>ham</td>\n",
       "      <td>Go until jurong point, crazy.. Available only ...</td>\n",
       "    </tr>\n",
       "    <tr>\n",
       "      <th>1</th>\n",
       "      <td>ham</td>\n",
       "      <td>Ok lar... Joking wif u oni...</td>\n",
       "    </tr>\n",
       "    <tr>\n",
       "      <th>2</th>\n",
       "      <td>spam</td>\n",
       "      <td>Free entry in 2 a wkly comp to win FA Cup fina...</td>\n",
       "    </tr>\n",
       "    <tr>\n",
       "      <th>3</th>\n",
       "      <td>ham</td>\n",
       "      <td>U dun say so early hor... U c already then say...</td>\n",
       "    </tr>\n",
       "    <tr>\n",
       "      <th>4</th>\n",
       "      <td>ham</td>\n",
       "      <td>Nah I don't think he goes to usf, he lives aro...</td>\n",
       "    </tr>\n",
       "    <tr>\n",
       "      <th>...</th>\n",
       "      <td>...</td>\n",
       "      <td>...</td>\n",
       "    </tr>\n",
       "    <tr>\n",
       "      <th>5568</th>\n",
       "      <td>ham</td>\n",
       "      <td>Will ü b going to esplanade fr home?</td>\n",
       "    </tr>\n",
       "    <tr>\n",
       "      <th>5569</th>\n",
       "      <td>ham</td>\n",
       "      <td>Pity, * was in mood for that. So...any other s...</td>\n",
       "    </tr>\n",
       "    <tr>\n",
       "      <th>5570</th>\n",
       "      <td>ham</td>\n",
       "      <td>The guy did some bitching but I acted like i'd...</td>\n",
       "    </tr>\n",
       "    <tr>\n",
       "      <th>5571</th>\n",
       "      <td>ham</td>\n",
       "      <td>Rofl. Its true to its name</td>\n",
       "    </tr>\n",
       "    <tr>\n",
       "      <th>5572</th>\n",
       "      <td>{\"mode\":\"full\"</td>\n",
       "      <td>isActive:false}</td>\n",
       "    </tr>\n",
       "  </tbody>\n",
       "</table>\n",
       "<p>5573 rows × 2 columns</p>\n",
       "</div>"
      ],
      "text/plain": [
       "            Category                                            Message\n",
       "0                ham  Go until jurong point, crazy.. Available only ...\n",
       "1                ham                      Ok lar... Joking wif u oni...\n",
       "2               spam  Free entry in 2 a wkly comp to win FA Cup fina...\n",
       "3                ham  U dun say so early hor... U c already then say...\n",
       "4                ham  Nah I don't think he goes to usf, he lives aro...\n",
       "...              ...                                                ...\n",
       "5568             ham               Will ü b going to esplanade fr home?\n",
       "5569             ham  Pity, * was in mood for that. So...any other s...\n",
       "5570             ham  The guy did some bitching but I acted like i'd...\n",
       "5571             ham                         Rofl. Its true to its name\n",
       "5572  {\"mode\":\"full\"                                    isActive:false}\n",
       "\n",
       "[5573 rows x 2 columns]"
      ]
     },
     "execution_count": 2,
     "metadata": {},
     "output_type": "execute_result"
    }
   ],
   "source": [
    "df = pd.read_csv('email.csv')\n",
    "df"
   ]
  },
  {
   "cell_type": "code",
   "execution_count": 3,
   "id": "f1417982-52eb-42e6-a5f3-6b7478c35120",
   "metadata": {},
   "outputs": [
    {
     "name": "stdout",
     "output_type": "stream",
     "text": [
      "     Category                                            Message\n",
      "0         ham  Go until jurong point, crazy.. Available only ...\n",
      "1         ham                      Ok lar... Joking wif u oni...\n",
      "2        spam  Free entry in 2 a wkly comp to win FA Cup fina...\n",
      "3         ham  U dun say so early hor... U c already then say...\n",
      "4         ham  Nah I don't think he goes to usf, he lives aro...\n",
      "...       ...                                                ...\n",
      "5567     spam  This is the 2nd time we have tried 2 contact u...\n",
      "5568      ham               Will ü b going to esplanade fr home?\n",
      "5569      ham  Pity, * was in mood for that. So...any other s...\n",
      "5570      ham  The guy did some bitching but I acted like i'd...\n",
      "5571      ham                         Rofl. Its true to its name\n",
      "\n",
      "[5572 rows x 2 columns]\n"
     ]
    }
   ],
   "source": [
    "df.drop(index=5572, inplace=True)\n",
    "print(df)"
   ]
  },
  {
   "cell_type": "raw",
   "id": "0a078a12-dbbc-4539-bf3e-caf0db18c4e8",
   "metadata": {},
   "source": [
    "Encoding category column in (0,1) format for better classification"
   ]
  },
  {
   "cell_type": "code",
   "execution_count": 4,
   "id": "ebba53d2-195c-48a6-b459-f372f039512b",
   "metadata": {},
   "outputs": [
    {
     "data": {
      "text/html": [
       "<div>\n",
       "<style scoped>\n",
       "    .dataframe tbody tr th:only-of-type {\n",
       "        vertical-align: middle;\n",
       "    }\n",
       "\n",
       "    .dataframe tbody tr th {\n",
       "        vertical-align: top;\n",
       "    }\n",
       "\n",
       "    .dataframe thead th {\n",
       "        text-align: right;\n",
       "    }\n",
       "</style>\n",
       "<table border=\"1\" class=\"dataframe\">\n",
       "  <thead>\n",
       "    <tr style=\"text-align: right;\">\n",
       "      <th></th>\n",
       "      <th>Category</th>\n",
       "      <th>Message</th>\n",
       "    </tr>\n",
       "  </thead>\n",
       "  <tbody>\n",
       "    <tr>\n",
       "      <th>0</th>\n",
       "      <td>0.0</td>\n",
       "      <td>Go until jurong point, crazy.. Available only ...</td>\n",
       "    </tr>\n",
       "    <tr>\n",
       "      <th>1</th>\n",
       "      <td>0.0</td>\n",
       "      <td>Ok lar... Joking wif u oni...</td>\n",
       "    </tr>\n",
       "    <tr>\n",
       "      <th>2</th>\n",
       "      <td>1.0</td>\n",
       "      <td>Free entry in 2 a wkly comp to win FA Cup fina...</td>\n",
       "    </tr>\n",
       "    <tr>\n",
       "      <th>3</th>\n",
       "      <td>0.0</td>\n",
       "      <td>U dun say so early hor... U c already then say...</td>\n",
       "    </tr>\n",
       "    <tr>\n",
       "      <th>4</th>\n",
       "      <td>0.0</td>\n",
       "      <td>Nah I don't think he goes to usf, he lives aro...</td>\n",
       "    </tr>\n",
       "    <tr>\n",
       "      <th>...</th>\n",
       "      <td>...</td>\n",
       "      <td>...</td>\n",
       "    </tr>\n",
       "    <tr>\n",
       "      <th>5567</th>\n",
       "      <td>1.0</td>\n",
       "      <td>This is the 2nd time we have tried 2 contact u...</td>\n",
       "    </tr>\n",
       "    <tr>\n",
       "      <th>5568</th>\n",
       "      <td>0.0</td>\n",
       "      <td>Will ü b going to esplanade fr home?</td>\n",
       "    </tr>\n",
       "    <tr>\n",
       "      <th>5569</th>\n",
       "      <td>0.0</td>\n",
       "      <td>Pity, * was in mood for that. So...any other s...</td>\n",
       "    </tr>\n",
       "    <tr>\n",
       "      <th>5570</th>\n",
       "      <td>0.0</td>\n",
       "      <td>The guy did some bitching but I acted like i'd...</td>\n",
       "    </tr>\n",
       "    <tr>\n",
       "      <th>5571</th>\n",
       "      <td>0.0</td>\n",
       "      <td>Rofl. Its true to its name</td>\n",
       "    </tr>\n",
       "  </tbody>\n",
       "</table>\n",
       "<p>5572 rows × 2 columns</p>\n",
       "</div>"
      ],
      "text/plain": [
       "      Category                                            Message\n",
       "0          0.0  Go until jurong point, crazy.. Available only ...\n",
       "1          0.0                      Ok lar... Joking wif u oni...\n",
       "2          1.0  Free entry in 2 a wkly comp to win FA Cup fina...\n",
       "3          0.0  U dun say so early hor... U c already then say...\n",
       "4          0.0  Nah I don't think he goes to usf, he lives aro...\n",
       "...        ...                                                ...\n",
       "5567       1.0  This is the 2nd time we have tried 2 contact u...\n",
       "5568       0.0               Will ü b going to esplanade fr home?\n",
       "5569       0.0  Pity, * was in mood for that. So...any other s...\n",
       "5570       0.0  The guy did some bitching but I acted like i'd...\n",
       "5571       0.0                         Rofl. Its true to its name\n",
       "\n",
       "[5572 rows x 2 columns]"
      ]
     },
     "execution_count": 4,
     "metadata": {},
     "output_type": "execute_result"
    }
   ],
   "source": [
    "detection = ['ham','spam']\n",
    "enc = OrdinalEncoder(categories = [detection])\n",
    "df['Category'] = enc.fit_transform(df[['Category']])\n",
    "df #spam = 1 and ham = 0"
   ]
  },
  {
   "cell_type": "raw",
   "id": "a66b9a2c-f30c-48f6-82d0-0173653fc8f8",
   "metadata": {},
   "source": [
    "Feature and target selection"
   ]
  },
  {
   "cell_type": "code",
   "execution_count": 5,
   "id": "36dd1ca4-8dc0-4579-9dae-6c679496d10a",
   "metadata": {},
   "outputs": [],
   "source": [
    "X = df['Message']\n",
    "y = df['Category']"
   ]
  },
  {
   "cell_type": "raw",
   "id": "6036cacf-e620-4975-8efd-cf2c2195c04f",
   "metadata": {},
   "source": [
    "Training and testing values with train test split"
   ]
  },
  {
   "cell_type": "code",
   "execution_count": 6,
   "id": "f762ff91-1f20-4220-8658-c76c3fc41958",
   "metadata": {},
   "outputs": [],
   "source": [
    "X_train, X_test, y_train, y_test = train_test_split(X, y, test_size = 0.3, random_state = 42)"
   ]
  },
  {
   "cell_type": "code",
   "execution_count": 7,
   "id": "3b5de898-3f78-4c4d-9fbe-568f0c395ddc",
   "metadata": {},
   "outputs": [
    {
     "name": "stdout",
     "output_type": "stream",
     "text": [
      "\n",
      "==================================================\n",
      "==================================================\n",
      "CountVectorizer Accuracy: 0.983\n",
      "\n",
      "Classification Report (CountVectorizer):\n",
      "              precision    recall  f1-score   support\n",
      "\n",
      "         Ham       0.98      1.00      0.99      1448\n",
      "        Spam       1.00      0.87      0.93       224\n",
      "\n",
      "    accuracy                           0.98      1672\n",
      "   macro avg       0.99      0.94      0.96      1672\n",
      "weighted avg       0.98      0.98      0.98      1672\n",
      "\n"
     ]
    }
   ],
   "source": [
    "print(\"\\n\" + \"=\"*50)\n",
    "print(\"=\"*50)\n",
    "\n",
    "# Create and train the model with CountVectorizer\n",
    "vectorizer_count = CountVectorizer(stop_words='english', lowercase=True)\n",
    "X_train_count = vectorizer_count.fit_transform(X_train)\n",
    "X_test_count = vectorizer_count.transform(X_test)\n",
    "\n",
    "# Train logistic regression\n",
    "lr = LogisticRegression(random_state=42)\n",
    "lr.fit(X_train_count, y_train)\n",
    "\n",
    "# Make predictions\n",
    "y_pred = lr.predict(X_test_count)\n",
    "\n",
    "accuracy_count = accuracy_score(y_test, y_pred)\n",
    "print(f\"CountVectorizer Accuracy: {accuracy_count:.3f}\")\n",
    "print(\"\\nClassification Report (CountVectorizer):\")\n",
    "print(classification_report(y_test, y_pred, target_names=['Ham', 'Spam']))"
   ]
  },
  {
   "cell_type": "code",
   "execution_count": 8,
   "id": "4f7b69f0-b8b0-4cd5-bb92-0026bb8e3830",
   "metadata": {},
   "outputs": [
    {
     "data": {
      "image/png": "[encoded data removed]",
      "text/plain": [
       "<Figure size 800x600 with 2 Axes>"
      ]
     },
     "metadata": {},
     "output_type": "display_data"
    }
   ],
   "source": [
    "# Confusion Matrix Visualization\n",
    "plt.figure(figsize=(8, 6))\n",
    "cm = confusion_matrix(y_test, y_pred)\n",
    "sns.heatmap(cm, annot=True, fmt='d', cmap='Blues', \n",
    "            xticklabels=['Ham', 'Spam'], yticklabels=['Ham', 'Spam'])\n",
    "plt.title('Confusion Matrix - Spam Detection')\n",
    "plt.xlabel('Predicted')\n",
    "plt.ylabel('Actual')\n",
    "plt.show()"
   ]
  },
  {
   "cell_type": "code",
   "execution_count": 9,
   "id": "fbd2571d-fdc6-46c5-84c4-d292655dc67a",
   "metadata": {},
   "outputs": [
    {
     "name": "stdout",
     "output_type": "stream",
     "text": [
      "\n",
      "==================================================\n",
      "TOP SPAM INDICATORS\n",
      "==================================================\n",
      "Top 10 words indicating SPAM(1):\n",
      "uk: 1.963\n",
      "txt: 1.792\n",
      "new: 1.776\n",
      "claim: 1.759\n",
      "message: 1.753\n",
      "ringtone: 1.718\n",
      "service: 1.696\n",
      "won: 1.681\n",
      "free: 1.631\n",
      "mobile: 1.609\n",
      "\n",
      "Top 10 words indicating HAM(0):\n",
      "ll: -1.080\n",
      "gt: -1.021\n",
      "lt: -0.996\n",
      "fullonsms: -0.986\n",
      "right: -0.733\n",
      "ok: -0.684\n",
      "happy: -0.676\n",
      "way: -0.673\n",
      "later: -0.665\n",
      "sorry: -0.650\n"
     ]
    }
   ],
   "source": [
    "print(\"\\n\" + \"=\"*50)\n",
    "print(\"TOP SPAM INDICATORS\")\n",
    "print(\"=\"*50)\n",
    "\n",
    "# Get feature names and coefficients\n",
    "feature_names = vectorizer_count.get_feature_names_out()\n",
    "coefficients = lr.coef_[0]\n",
    "\n",
    "# Get top 10 spam indicators (highest positive coefficients)\n",
    "spam_indicators = sorted(zip(coefficients, feature_names), reverse=True)[:10]\n",
    "print(\"Top 10 words indicating SPAM(1):\")\n",
    "for coef, word in spam_indicators:\n",
    "    print(f\"{word}: {coef:.3f}\")\n",
    "\n",
    "# Get top 10 ham indicators (lowest coefficients)\n",
    "ham_indicators = sorted(zip(coefficients, feature_names))[:10]\n",
    "print(\"\\nTop 10 words indicating HAM(0):\")\n",
    "for coef, word in ham_indicators:\n",
    "    print(f\"{word}: {coef:.3f}\")"
   ]
  },
  {
   "cell_type": "code",
   "execution_count": 10,
   "id": "bcbca561-2344-45f2-a67d-38ceda25e608",
   "metadata": {},
   "outputs": [
    {
     "name": "stdout",
     "output_type": "stream",
     "text": [
      "\n",
      "==================================================\n",
      "MODEL PERFORMANCE SUMMARY\n",
      "==================================================\n",
      "CountVectorizer Accuracy: 0.983\n"
     ]
    }
   ],
   "source": [
    "print(\"\\n\" + \"=\"*50)\n",
    "print(\"MODEL PERFORMANCE SUMMARY\")\n",
    "print(\"=\"*50)\n",
    "print(f\"CountVectorizer Accuracy: {accuracy_count:.3f}\")"
   ]
  },
  {
   "cell_type": "code",
   "execution_count": 11,
   "id": "f830e2e9-1b5b-43b0-97ba-2f2e3b929471",
   "metadata": {},
   "outputs": [],
   "source": [
    "def check_spam():\n",
    "    email_text = entry.get(\"1.0\", tk.END).strip()\n",
    "    if not email_text:\n",
    "        messagebox.showwarning(\"Input Error\", \"Please enter an email text\")\n",
    "        return\n",
    "\n",
    "    # Transform input email into vector\n",
    "    email_vector = vectorizer_count.transform([email_text])\n",
    "    prediction = lr.predict(email_vector)[0]\n",
    "\n",
    "    if prediction == 1:\n",
    "        result_label.config(text=\"🚨 Spam Email!\", fg=\"red\")\n",
    "    else:\n",
    "        result_label.config(text=\"✅ Not Spam\", fg=\"green\")\n",
    "\n",
    "#GUI\n",
    "root = tk.Tk()\n",
    "root.title(\"Spam Detector (Logistic Regression)\")\n",
    "root.geometry(\"500x300\")\n",
    "root.config(bg=\"#f0f0f0\")\n",
    "\n",
    "# Title\n",
    "title = tk.Label(root, text=\"Spam Email Detector\", font=(\"Calibri\", 16, \"bold\"), bg=\"#f0f0f0\")\n",
    "title.pack(pady=15)\n",
    "\n",
    "# Text Entry Box\n",
    "entry = tk.Text(root, height=5, width=50, font=(\"Arial\", 18))\n",
    "entry.pack(pady=10)\n",
    "\n",
    "# Check Button\n",
    "btn = tk.Button(root, text=\"Check\", command=check_spam, font=(\"Arial\", 12), bg=\"black\", fg=\"white\")\n",
    "btn.pack(pady=5)\n",
    "\n",
    "# Result Label\n",
    "result_label = tk.Label(root, text=\"\", font=(\"Arial\", 14, \"bold\"), bg=\"#f0f0f0\")\n",
    "result_label.pack(pady=10)\n",
    "\n",
    "# Run GUI\n",
    "root.mainloop()"
   ]
  },
  {
   "cell_type": "code",
   "execution_count": null,
   "id": "2abde5a4-f8ce-4e75-af6b-5c24a7141c58",
   "metadata": {},
   "outputs": [],
   "source": []
  }
 ],
 "metadata": {
  "kernelspec": {
   "display_name": "Python 3 (ipykernel)",
   "language": "python",
   "name": "python3"
  },
  "language_info": {
   "codemirror_mode": {
    "name": "ipython",
    "version": 3
   },
   "file_extension": ".py",
   "mimetype": "text/x-python",
   "name": "python",
   "nbconvert_exporter": "python",
   "pygments_lexer": "ipython3",
   "version": "3.12.6"
  }
 },
 "nbformat": 4,
 "nbformat_minor": 5
}
